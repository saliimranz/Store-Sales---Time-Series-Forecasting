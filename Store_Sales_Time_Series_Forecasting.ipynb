{
  "metadata": {
    "kernelspec": {
      "display_name": "Python 3",
      "language": "python",
      "name": "python3"
    },
    "language_info": {
      "name": "python",
      "version": "3.11.11",
      "mimetype": "text/x-python",
      "codemirror_mode": {
        "name": "ipython",
        "version": 3
      },
      "pygments_lexer": "ipython3",
      "nbconvert_exporter": "python",
      "file_extension": ".py"
    },
    "jupytext": {
      "cell_metadata_filter": "-all",
      "formats": "ipynb,md"
    },
    "kaggle": {
      "accelerator": "none",
      "dataSources": [
        {
          "sourceId": 29781,
          "databundleVersionId": 2887556,
          "sourceType": "competition"
        },
        {
          "sourceId": 2484624,
          "sourceType": "datasetVersion",
          "datasetId": 1169793
        }
      ],
      "isInternetEnabled": false,
      "language": "python",
      "sourceType": "notebook",
      "isGpuEnabled": false
    },
    "colab": {
      "provenance": [],
      "include_colab_link": true
    }
  },
  "nbformat_minor": 0,
  "nbformat": 4,
  "cells": [
    {
      "cell_type": "markdown",
      "metadata": {
        "id": "view-in-github",
        "colab_type": "text"
      },
      "source": [
        "<a href=\"https://colab.research.google.com/github/saliimranz/Store-Sales---Time-Series-Forecasting/blob/main/Store_Sales_Time_Series_Forecasting.ipynb\" target=\"_parent\"><img src=\"https://colab.research.google.com/assets/colab-badge.svg\" alt=\"Open In Colab\"/></a>"
      ]
    },
    {
      "source": [
        "# IMPORTANT: SOME KAGGLE DATA SOURCES ARE PRIVATE\n",
        "# RUN THIS CELL IN ORDER TO IMPORT YOUR KAGGLE DATA SOURCES.\n",
        "import kagglehub\n",
        "kagglehub.login()\n"
      ],
      "metadata": {
        "id": "G6PleBkNxGFu"
      },
      "cell_type": "code",
      "outputs": [],
      "execution_count": null
    },
    {
      "source": [
        "# IMPORTANT: RUN THIS CELL IN ORDER TO IMPORT YOUR KAGGLE DATA SOURCES,\n",
        "# THEN FEEL FREE TO DELETE THIS CELL.\n",
        "# NOTE: THIS NOTEBOOK ENVIRONMENT DIFFERS FROM KAGGLE'S PYTHON\n",
        "# ENVIRONMENT SO THERE MAY BE MISSING LIBRARIES USED BY YOUR\n",
        "# NOTEBOOK.\n",
        "\n",
        "store_sales_time_series_forecasting_path = kagglehub.competition_download('store-sales-time-series-forecasting')\n",
        "ryanholbrook_ts_course_data_path = kagglehub.dataset_download('ryanholbrook/ts-course-data')\n",
        "\n",
        "print('Data source import complete.')\n"
      ],
      "metadata": {
        "id": "Amq2NF-ExGFw"
      },
      "cell_type": "code",
      "outputs": [],
      "execution_count": null
    },
    {
      "cell_type": "markdown",
      "source": [
        "**This notebook is an exercise in the [Time Series](https://www.kaggle.com/learn/time-series) course.  You can reference the tutorial at [this link](https://www.kaggle.com/ryanholbrook/seasonality).**\n",
        "\n",
        "---\n"
      ],
      "metadata": {
        "id": "bcb0b51e"
      }
    },
    {
      "cell_type": "markdown",
      "source": [
        "# Introduction #\n",
        "\n",
        "Run this cell to set everything up!"
      ],
      "metadata": {
        "id": "expected-program"
      }
    },
    {
      "cell_type": "code",
      "source": [
        "# Setup feedback system\n",
        "from learntools.core import binder\n",
        "binder.bind(globals())\n",
        "from learntools.time_series.ex3 import *\n",
        "\n",
        "# Setup notebook\n",
        "from pathlib import Path\n",
        "from learntools.time_series.style import *  # plot style settings\n",
        "from learntools.time_series.utils import plot_periodogram, seasonal_plot\n",
        "\n",
        "import pandas as pd\n",
        "import matplotlib.pyplot as plt\n",
        "import numpy as np\n",
        "import seaborn as sns\n",
        "from sklearn.linear_model import LinearRegression\n",
        "from statsmodels.tsa.deterministic import CalendarFourier, DeterministicProcess\n",
        "\n",
        "\n",
        "comp_dir = Path('../input/store-sales-time-series-forecasting')\n",
        "\n",
        "holidays_events = pd.read_csv(\n",
        "    comp_dir / \"holidays_events.csv\",\n",
        "    dtype={\n",
        "        'type': 'category',\n",
        "        'locale': 'category',\n",
        "        'locale_name': 'category',\n",
        "        'description': 'category',\n",
        "        'transferred': 'bool',\n",
        "    },\n",
        "    parse_dates=['date'],\n",
        "    infer_datetime_format=True,\n",
        ")\n",
        "holidays_events = holidays_events.set_index('date').to_period('D')\n",
        "\n",
        "store_sales = pd.read_csv(\n",
        "    comp_dir / 'train.csv',\n",
        "    usecols=['store_nbr', 'family', 'date', 'sales'],\n",
        "    dtype={\n",
        "        'store_nbr': 'category',\n",
        "        'family': 'category',\n",
        "        'sales': 'float32',\n",
        "    },\n",
        "    parse_dates=['date'],\n",
        "    infer_datetime_format=True,\n",
        ")\n",
        "store_sales['date'] = store_sales.date.dt.to_period('D')\n",
        "store_sales = store_sales.set_index(['store_nbr', 'family', 'date']).sort_index()\n",
        "average_sales = (\n",
        "    store_sales\n",
        "    .groupby('date').mean()\n",
        "    .squeeze()\n",
        "    .loc['2017']\n",
        ")"
      ],
      "metadata": {
        "trusted": true,
        "execution": {
          "iopub.status.busy": "2025-04-21T11:43:27.188197Z",
          "iopub.execute_input": "2025-04-21T11:43:27.188493Z",
          "iopub.status.idle": "2025-04-21T11:43:47.044608Z",
          "shell.execute_reply.started": "2025-04-21T11:43:27.188464Z",
          "shell.execute_reply": "2025-04-21T11:43:47.04373Z"
        },
        "id": "signed-farming"
      },
      "outputs": [],
      "execution_count": null
    },
    {
      "cell_type": "markdown",
      "source": [
        "-------------------------------------------------------------------------------\n",
        "\n",
        "Examine the following seasonal plot:"
      ],
      "metadata": {
        "id": "confident-outdoors"
      }
    },
    {
      "cell_type": "code",
      "source": [
        "X = average_sales.to_frame()\n",
        "X[\"week\"] = X.index.week\n",
        "X[\"day\"] = X.index.dayofweek\n",
        "seasonal_plot(X, y='sales', period='week', freq='day');"
      ],
      "metadata": {
        "trusted": true,
        "execution": {
          "iopub.status.busy": "2025-04-21T11:43:47.048846Z",
          "iopub.execute_input": "2025-04-21T11:43:47.049143Z",
          "iopub.status.idle": "2025-04-21T11:43:47.828925Z",
          "shell.execute_reply.started": "2025-04-21T11:43:47.049114Z",
          "shell.execute_reply": "2025-04-21T11:43:47.827971Z"
        },
        "id": "indirect-folder"
      },
      "outputs": [],
      "execution_count": null
    },
    {
      "cell_type": "markdown",
      "source": [
        "And also the periodogram:"
      ],
      "metadata": {
        "id": "dynamic-utilization"
      }
    },
    {
      "cell_type": "code",
      "source": [
        "plot_periodogram(average_sales);"
      ],
      "metadata": {
        "trusted": true,
        "execution": {
          "iopub.status.busy": "2025-04-21T11:44:11.148081Z",
          "iopub.execute_input": "2025-04-21T11:44:11.148407Z",
          "iopub.status.idle": "2025-04-21T11:44:11.831694Z",
          "shell.execute_reply.started": "2025-04-21T11:44:11.148382Z",
          "shell.execute_reply": "2025-04-21T11:44:11.830818Z"
        },
        "id": "veterinary-observation"
      },
      "outputs": [],
      "execution_count": null
    },
    {
      "cell_type": "markdown",
      "source": [
        "# 1) Determine seasonality\n",
        "\n",
        "What kind of seasonality do you see evidence of? Once you've thought about it, run the next cell for some discussion."
      ],
      "metadata": {
        "id": "automotive-liquid"
      }
    },
    {
      "cell_type": "code",
      "source": [
        "# View the solution (Run this cell to receive credit!)\n",
        "q_1.check()"
      ],
      "metadata": {
        "trusted": true,
        "execution": {
          "iopub.status.busy": "2025-04-21T11:44:29.323444Z",
          "iopub.execute_input": "2025-04-21T11:44:29.323921Z",
          "iopub.status.idle": "2025-04-21T11:44:29.331454Z",
          "shell.execute_reply.started": "2025-04-21T11:44:29.323894Z",
          "shell.execute_reply": "2025-04-21T11:44:29.330665Z"
        },
        "id": "extreme-suffering"
      },
      "outputs": [],
      "execution_count": null
    },
    {
      "cell_type": "markdown",
      "source": [
        "-------------------------------------------------------------------------------\n",
        "\n",
        "# 2) Create seasonal features\n",
        "\n",
        "Use `DeterministicProcess` and `CalendarFourier` to create:\n",
        "- indicators for weekly seasons and\n",
        "- Fourier features of order 4 for monthly seasons."
      ],
      "metadata": {
        "id": "continued-consciousness"
      }
    },
    {
      "cell_type": "code",
      "source": [
        "y = average_sales.copy()\n",
        "\n",
        "# YOUR CODE HERE\n",
        "fourier = CalendarFourier(freq='M', order=4)\n",
        "dp = DeterministicProcess(\n",
        "    index=y.index,\n",
        "    constant=True,\n",
        "    order=1,\n",
        "    # YOUR CODE HERE\n",
        "    seasonal = True,\n",
        "    additional_terms = [fourier],\n",
        "    drop=True,\n",
        ")\n",
        "X = dp.in_sample()\n",
        "\n",
        "# Check your answer\n",
        "q_2.check()"
      ],
      "metadata": {
        "trusted": true,
        "execution": {
          "iopub.status.busy": "2025-04-21T11:48:22.433372Z",
          "iopub.execute_input": "2025-04-21T11:48:22.433701Z",
          "iopub.status.idle": "2025-04-21T11:48:35.330413Z",
          "shell.execute_reply.started": "2025-04-21T11:48:22.433674Z",
          "shell.execute_reply": "2025-04-21T11:48:35.329495Z"
        },
        "id": "institutional-winter"
      },
      "outputs": [],
      "execution_count": null
    },
    {
      "cell_type": "code",
      "source": [
        "# Lines below will give you a hint or solution code\n",
        "q_2.hint()\n",
        "q_2.solution()"
      ],
      "metadata": {
        "trusted": true,
        "execution": {
          "iopub.status.busy": "2025-04-21T11:47:16.861211Z",
          "iopub.execute_input": "2025-04-21T11:47:16.862444Z",
          "iopub.status.idle": "2025-04-21T11:47:16.872881Z",
          "shell.execute_reply.started": "2025-04-21T11:47:16.86241Z",
          "shell.execute_reply": "2025-04-21T11:47:16.87205Z"
        },
        "id": "narrative-organic"
      },
      "outputs": [],
      "execution_count": null
    },
    {
      "cell_type": "markdown",
      "source": [
        "Now run this cell to fit the seasonal model."
      ],
      "metadata": {
        "id": "arctic-thought"
      }
    },
    {
      "cell_type": "code",
      "source": [
        "model = LinearRegression().fit(X, y)\n",
        "y_pred = pd.Series(\n",
        "    model.predict(X),\n",
        "    index=X.index,\n",
        "    name='Fitted',\n",
        ")\n",
        "\n",
        "y_pred = pd.Series(model.predict(X), index=X.index)\n",
        "ax = y.plot(**plot_params, alpha=0.5, title=\"Average Sales\", ylabel=\"items sold\")\n",
        "ax = y_pred.plot(ax=ax, label=\"Seasonal\")\n",
        "ax.legend();"
      ],
      "metadata": {
        "trusted": true,
        "execution": {
          "iopub.status.busy": "2025-04-21T11:48:46.367845Z",
          "iopub.execute_input": "2025-04-21T11:48:46.368195Z",
          "iopub.status.idle": "2025-04-21T11:48:46.962418Z",
          "shell.execute_reply.started": "2025-04-21T11:48:46.36817Z",
          "shell.execute_reply": "2025-04-21T11:48:46.961479Z"
        },
        "id": "bibliographic-solution"
      },
      "outputs": [],
      "execution_count": null
    },
    {
      "cell_type": "markdown",
      "source": [
        "-------------------------------------------------------------------------------\n"
      ],
      "metadata": {
        "id": "union-singles"
      }
    },
    {
      "cell_type": "markdown",
      "source": [
        "Removing from a series its trend or seasons is called **detrending** or **deseasonalizing** the series.\n",
        "\n",
        "Look at the periodogram of the deseasonalized series."
      ],
      "metadata": {
        "id": "incredible-being"
      }
    },
    {
      "cell_type": "code",
      "source": [
        "y_deseason = y - y_pred\n",
        "\n",
        "fig, (ax1, ax2) = plt.subplots(2, 1, sharex=True, sharey=True, figsize=(10, 7))\n",
        "ax1 = plot_periodogram(y, ax=ax1)\n",
        "ax1.set_title(\"Product Sales Frequency Components\")\n",
        "ax2 = plot_periodogram(y_deseason, ax=ax2);\n",
        "ax2.set_title(\"Deseasonalized\");"
      ],
      "metadata": {
        "trusted": true,
        "execution": {
          "iopub.status.busy": "2025-04-21T11:49:51.130594Z",
          "iopub.execute_input": "2025-04-21T11:49:51.131551Z",
          "iopub.status.idle": "2025-04-21T11:49:52.151292Z",
          "shell.execute_reply.started": "2025-04-21T11:49:51.131521Z",
          "shell.execute_reply": "2025-04-21T11:49:52.150414Z"
        },
        "id": "macro-falls"
      },
      "outputs": [],
      "execution_count": null
    },
    {
      "cell_type": "markdown",
      "source": [
        "# 3) Check for remaining seasonality\n",
        "\n",
        "Based on these periodograms, how effectively does it appear your model captured the seasonality in *Average Sales*? Does the periodogram agree with the time plot of the deseasonalized series?"
      ],
      "metadata": {
        "id": "close-document"
      }
    },
    {
      "cell_type": "code",
      "source": [
        "# View the solution (Run this cell to receive credit!)\n",
        "q_3.check()"
      ],
      "metadata": {
        "trusted": true,
        "execution": {
          "iopub.status.busy": "2025-04-21T11:50:22.056199Z",
          "iopub.execute_input": "2025-04-21T11:50:22.056524Z",
          "iopub.status.idle": "2025-04-21T11:50:22.064663Z",
          "shell.execute_reply.started": "2025-04-21T11:50:22.0565Z",
          "shell.execute_reply": "2025-04-21T11:50:22.063451Z"
        },
        "id": "alternate-malaysia"
      },
      "outputs": [],
      "execution_count": null
    },
    {
      "cell_type": "markdown",
      "source": [
        "-------------------------------------------------------------------------------\n",
        "\n",
        "The *Store Sales* dataset includes a table of Ecuadorian holidays."
      ],
      "metadata": {
        "id": "developmental-preview"
      }
    },
    {
      "cell_type": "code",
      "source": [
        "# National and regional holidays in the training set\n",
        "holidays = (\n",
        "    holidays_events\n",
        "    .query(\"locale in ['National', 'Regional']\")\n",
        "    .loc['2017':'2017-08-15', ['description']]\n",
        "    .assign(description=lambda x: x.description.cat.remove_unused_categories())\n",
        ")\n",
        "\n",
        "display(holidays)"
      ],
      "metadata": {
        "trusted": true,
        "execution": {
          "iopub.status.busy": "2025-04-21T11:50:51.877822Z",
          "iopub.execute_input": "2025-04-21T11:50:51.87813Z",
          "iopub.status.idle": "2025-04-21T11:50:51.909321Z",
          "shell.execute_reply.started": "2025-04-21T11:50:51.878108Z",
          "shell.execute_reply": "2025-04-21T11:50:51.908086Z"
        },
        "id": "placed-kuwait"
      },
      "outputs": [],
      "execution_count": null
    },
    {
      "cell_type": "markdown",
      "source": [
        "From a plot of the deseasonalized *Average Sales*, it appears these holidays could have some predictive power."
      ],
      "metadata": {
        "id": "square-trigger"
      }
    },
    {
      "cell_type": "code",
      "source": [
        "ax = y_deseason.plot(**plot_params)\n",
        "plt.plot_date(holidays.index, y_deseason[holidays.index], color='C3')\n",
        "ax.set_title('National and Regional Holidays');"
      ],
      "metadata": {
        "trusted": true,
        "execution": {
          "iopub.status.busy": "2025-04-21T11:51:10.316661Z",
          "iopub.execute_input": "2025-04-21T11:51:10.317692Z",
          "iopub.status.idle": "2025-04-21T11:51:10.794153Z",
          "shell.execute_reply.started": "2025-04-21T11:51:10.317659Z",
          "shell.execute_reply": "2025-04-21T11:51:10.793256Z"
        },
        "id": "developing-basics"
      },
      "outputs": [],
      "execution_count": null
    },
    {
      "cell_type": "markdown",
      "source": [
        "# 4) Create holiday features\n",
        "\n",
        "What kind of features could you create to help your model make use of this information? Code your answer in the next cell. (Scikit-learn and Pandas both have utilities that should make this easy. See the `hint` if you'd like more details.)\n"
      ],
      "metadata": {
        "id": "middle-korea"
      }
    },
    {
      "cell_type": "code",
      "source": [
        "# YOUR CODE HERE\n",
        "from sklearn.preprocessing import OneHotEncoder\n",
        "ohe = OneHotEncoder(sparse=False)\n",
        "X_holidays = pd.DataFrame(\n",
        "    ohe.fit_transform(holidays),\n",
        "    index=holidays.index,\n",
        "    columns=holidays.description.unique(),  # optional,  but nice to have\n",
        ")\n",
        "\n",
        "X2 = X.join(X_holidays, on='date').fillna(0.0)\n",
        "\n",
        "# Check your answer\n",
        "q_4.check()"
      ],
      "metadata": {
        "trusted": true,
        "execution": {
          "iopub.status.busy": "2025-04-21T11:55:09.529053Z",
          "iopub.execute_input": "2025-04-21T11:55:09.529379Z",
          "iopub.status.idle": "2025-04-21T11:55:09.56037Z",
          "shell.execute_reply.started": "2025-04-21T11:55:09.529356Z",
          "shell.execute_reply": "2025-04-21T11:55:09.559469Z"
        },
        "id": "08a16ff9"
      },
      "outputs": [],
      "execution_count": null
    },
    {
      "cell_type": "code",
      "source": [
        "# Lines below will give you a hint or solution code\n",
        "#q_4.hint()\n",
        "#q_4.hint(2)\n",
        "q_4.solution()"
      ],
      "metadata": {
        "trusted": true,
        "execution": {
          "iopub.status.busy": "2025-04-21T11:54:21.866869Z",
          "iopub.execute_input": "2025-04-21T11:54:21.867207Z",
          "iopub.status.idle": "2025-04-21T11:54:21.875229Z",
          "shell.execute_reply.started": "2025-04-21T11:54:21.86718Z",
          "shell.execute_reply": "2025-04-21T11:54:21.874053Z"
        },
        "id": "falling-track"
      },
      "outputs": [],
      "execution_count": null
    },
    {
      "cell_type": "markdown",
      "source": [
        "Use this cell to fit the seasonal model with holiday features added. Do the fitted values seem to have improved?"
      ],
      "metadata": {
        "id": "electronic-navigator"
      }
    },
    {
      "cell_type": "code",
      "source": [
        "model = LinearRegression().fit(X2, y)\n",
        "y_pred = pd.Series(\n",
        "    model.predict(X2),\n",
        "    index=X2.index,\n",
        "    name='Fitted',\n",
        ")\n",
        "\n",
        "y_pred = pd.Series(model.predict(X2), index=X2.index)\n",
        "ax = y.plot(**plot_params, alpha=0.5, title=\"Average Sales\", ylabel=\"items sold\")\n",
        "ax = y_pred.plot(ax=ax, label=\"Seasonal\")\n",
        "ax.legend();"
      ],
      "metadata": {
        "trusted": true,
        "execution": {
          "iopub.status.busy": "2025-04-21T11:55:26.312707Z",
          "iopub.execute_input": "2025-04-21T11:55:26.313051Z",
          "iopub.status.idle": "2025-04-21T11:55:26.86676Z",
          "shell.execute_reply.started": "2025-04-21T11:55:26.313027Z",
          "shell.execute_reply": "2025-04-21T11:55:26.865823Z"
        },
        "id": "alternate-calculator"
      },
      "outputs": [],
      "execution_count": null
    },
    {
      "cell_type": "markdown",
      "source": [
        "-------------------------------------------------------------------------------\n",
        "\n",
        "# (Optional) Submit to Store Sales competition\n",
        "\n",
        "This part of the exercise will walk you through your first submission to this course's companion competition: [**Store Sales - Time Series Forecasting**](https://www.kaggle.com/c/29781). Submitting to the competition isn't required to complete the course, but it's a great way to try out your new skills.\n",
        "\n",
        "The next cell creates a seasonal model of the kind you've learned about in this lesson for the full *Store Sales* dataset with all 1800 time series."
      ],
      "metadata": {
        "id": "iraqi-intermediate"
      }
    },
    {
      "cell_type": "code",
      "source": [
        "y = store_sales.unstack(['store_nbr', 'family']).loc[\"2017\"]\n",
        "\n",
        "# Create training data\n",
        "fourier = CalendarFourier(freq='M', order=4)\n",
        "dp = DeterministicProcess(\n",
        "    index=y.index,\n",
        "    constant=True,\n",
        "    order=1,\n",
        "    seasonal=True,\n",
        "    additional_terms=[fourier],\n",
        "    drop=True,\n",
        ")\n",
        "X = dp.in_sample()\n",
        "X['NewYear'] = (X.index.dayofyear == 1)\n",
        "\n",
        "model = LinearRegression(fit_intercept=False)\n",
        "model.fit(X, y)\n",
        "y_pred = pd.DataFrame(model.predict(X), index=X.index, columns=y.columns)"
      ],
      "metadata": {
        "trusted": true,
        "execution": {
          "iopub.status.busy": "2025-04-21T11:55:55.442329Z",
          "iopub.execute_input": "2025-04-21T11:55:55.442782Z",
          "iopub.status.idle": "2025-04-21T11:55:56.684422Z",
          "shell.execute_reply.started": "2025-04-21T11:55:55.442729Z",
          "shell.execute_reply": "2025-04-21T11:55:56.683735Z"
        },
        "id": "demographic-statement"
      },
      "outputs": [],
      "execution_count": null
    },
    {
      "cell_type": "markdown",
      "source": [
        "You can use this cell to see some of its predictions.\n"
      ],
      "metadata": {
        "id": "sealed-chamber"
      }
    },
    {
      "cell_type": "code",
      "source": [
        "STORE_NBR = '1'  # 1 - 54\n",
        "FAMILY = 'PRODUCE'\n",
        "# Uncomment to see a list of product families\n",
        "# display(store_sales.index.get_level_values('family').unique())\n",
        "\n",
        "ax = y.loc(axis=1)['sales', STORE_NBR, FAMILY].plot(**plot_params)\n",
        "ax = y_pred.loc(axis=1)['sales', STORE_NBR, FAMILY].plot(ax=ax)\n",
        "ax.set_title(f'{FAMILY} Sales at Store {STORE_NBR}');"
      ],
      "metadata": {
        "trusted": true,
        "execution": {
          "iopub.status.busy": "2025-04-21T11:56:12.480306Z",
          "iopub.execute_input": "2025-04-21T11:56:12.480597Z",
          "iopub.status.idle": "2025-04-21T11:56:12.963263Z",
          "shell.execute_reply.started": "2025-04-21T11:56:12.480577Z",
          "shell.execute_reply": "2025-04-21T11:56:12.962301Z"
        },
        "id": "massive-density"
      },
      "outputs": [],
      "execution_count": null
    },
    {
      "cell_type": "markdown",
      "source": [
        "Finally, this cell loads the test data, creates a feature set for the forecast period, and then creates the submission file `submission.csv`."
      ],
      "metadata": {
        "id": "distinct-uncertainty"
      }
    },
    {
      "cell_type": "code",
      "source": [
        "df_test = pd.read_csv(\n",
        "    comp_dir / 'test.csv',\n",
        "    dtype={\n",
        "        'store_nbr': 'category',\n",
        "        'family': 'category',\n",
        "        'onpromotion': 'uint32',\n",
        "    },\n",
        "    parse_dates=['date'],\n",
        "    infer_datetime_format=True,\n",
        ")\n",
        "df_test['date'] = df_test.date.dt.to_period('D')\n",
        "df_test = df_test.set_index(['store_nbr', 'family', 'date']).sort_index()\n",
        "\n",
        "# Create features for test set\n",
        "X_test = dp.out_of_sample(steps=16)\n",
        "X_test.index.name = 'date'\n",
        "X_test['NewYear'] = (X_test.index.dayofyear == 1)\n",
        "\n",
        "\n",
        "y_submit = pd.DataFrame(model.predict(X_test), index=X_test.index, columns=y.columns)\n",
        "y_submit = y_submit.stack(['store_nbr', 'family'])\n",
        "y_submit = y_submit.join(df_test.id).reindex(columns=['id', 'sales'])\n",
        "y_submit.to_csv('submission.csv', index=False)"
      ],
      "metadata": {
        "trusted": true,
        "execution": {
          "iopub.status.busy": "2025-04-21T11:56:24.908957Z",
          "iopub.execute_input": "2025-04-21T11:56:24.909341Z",
          "iopub.status.idle": "2025-04-21T11:56:25.204041Z",
          "shell.execute_reply.started": "2025-04-21T11:56:24.909315Z",
          "shell.execute_reply": "2025-04-21T11:56:25.202597Z"
        },
        "id": "sunset-utilization"
      },
      "outputs": [],
      "execution_count": null
    },
    {
      "cell_type": "markdown",
      "source": [
        "To test your forecasts, you'll need to join the competition (if you haven't already). So open a new window by clicking on [this link](https://www.kaggle.com/c/29781). Then click on the **Join Competition** button.\n",
        "\n",
        "Next, follow the instructions below:\n",
        "1. Begin by clicking on the **Save Version** button in the top right corner of the window.  This will generate a pop-up window.  \n",
        "2. Ensure that the **Save and Run All** option is selected, and then click on the **Save** button.\n",
        "3. This generates a window in the bottom left corner of the notebook.  After it has finished running, click on the number to the right of the **Save Version** button.  This pulls up a list of versions on the right of the screen.  Click on the ellipsis **(...)** to the right of the most recent version, and select **Open in Viewer**.  This brings you into view mode of the same page. You will need to scroll down to get back to these instructions.\n",
        "4. Click on the **Data** tab near the top of the screen.  Then, click on the file you would like to submit, and click on the **Submit** button to submit your results to the leaderboard.\n",
        "\n",
        "You have now successfully submitted to the competition!\n",
        "\n",
        "If you want to keep working to improve your performance, select the **Edit** button in the top right of the screen. Then you can change your code and repeat the process. There's a lot of room to improve, and you will climb up the leaderboard as you work.\n"
      ],
      "metadata": {
        "id": "thousand-tokyo"
      }
    },
    {
      "cell_type": "markdown",
      "source": [
        "# Keep Going #\n",
        "\n",
        "[**Use time series as features**](https://www.kaggle.com/ryanholbrook/time-series-as-features) to capture cycles and other kinds of serial dependence."
      ],
      "metadata": {
        "id": "saved-niagara"
      }
    },
    {
      "cell_type": "markdown",
      "source": [
        "---\n",
        "\n",
        "\n",
        "\n",
        "\n",
        "*Have questions or comments? Visit the [course discussion forum](https://www.kaggle.com/learn/time-series/discussion) to chat with other learners.*"
      ],
      "metadata": {
        "id": "c6948657"
      }
    }
  ]
}